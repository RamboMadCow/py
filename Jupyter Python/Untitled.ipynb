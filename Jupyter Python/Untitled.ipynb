{
 "cells": [
  {
   "cell_type": "code",
   "execution_count": 3,
   "id": "dd6b1e83",
   "metadata": {},
   "outputs": [
    {
     "name": "stdout",
     "output_type": "stream",
     "text": [
      "Please enter your age: 21\n"
     ]
    }
   ],
   "source": [
    "Age = int(input(\"Please enter your age: \"))\n",
    "\n",
    "if (Age < 21):\n",
    "    print (\"You are too young to enter.\")\n",
    "else:\n",
    "    print(\"Welcome...\")"
   ]
  },
  {
   "cell_type": "code",
   "execution_count": 11,
   "id": "6af27b75",
   "metadata": {},
   "outputs": [
    {
     "name": "stdout",
     "output_type": "stream",
     "text": [
      "Please enter a number: 2\n",
      "Positive number entered: 2\n"
     ]
    }
   ],
   "source": [
    "Number = int(input(\"Please enter a number: \"))\n",
    "\n",
    "if (Number < 0):\n",
    "    print (\"Negative number entered: \" + str(Number))\n",
    "else:\n",
    "    print(\"Positive number entered: \" + str(Number))"
   ]
  },
  {
   "cell_type": "code",
   "execution_count": null,
   "id": "3adf9e98",
   "metadata": {},
   "outputs": [],
   "source": [
    "Model = int(input(\"Please chose 1 - 3: \"))\n",
    "\n",
    "if Model == 1:\n",
    "    print(\"You chose Rolls-Royce.\")\n",
    "elif Model == 2:\n",
    "    print(\"You chose Aston Martin.\")\n",
    "elif Model == 3:\n",
    "    print(\"You chose Bentley.\")\n",
    "else:\n",
    "    print(\"Invalid number.\")"
   ]
  },
  {
   "cell_type": "code",
   "execution_count": null,
   "id": "923909ba",
   "metadata": {},
   "outputs": [],
   "source": []
  }
 ],
 "metadata": {
  "kernelspec": {
   "display_name": "Python 3 (ipykernel)",
   "language": "python",
   "name": "python3"
  },
  "language_info": {
   "codemirror_mode": {
    "name": "ipython",
    "version": 3
   },
   "file_extension": ".py",
   "mimetype": "text/x-python",
   "name": "python",
   "nbconvert_exporter": "python",
   "pygments_lexer": "ipython3",
   "version": "3.11.5"
  }
 },
 "nbformat": 4,
 "nbformat_minor": 5
}
